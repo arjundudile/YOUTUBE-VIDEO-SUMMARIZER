{
 "cells": [
  {
   "cell_type": "code",
   "execution_count": 1,
   "id": "bd793ec1-dedf-4350-8308-3d1c2f8e008d",
   "metadata": {},
   "outputs": [
    {
     "name": "stdout",
     "output_type": "stream",
     "text": [
      "Requirement already satisfied: pytube in c:\\users\\arjun\\appdata\\local\\programs\\python\\python312\\lib\\site-packages (15.0.0)\n",
      "Requirement already satisfied: moviepy in c:\\users\\arjun\\appdata\\local\\programs\\python\\python312\\lib\\site-packages (1.0.3)\n",
      "Requirement already satisfied: decorator<5.0,>=4.0.2 in c:\\users\\arjun\\appdata\\local\\programs\\python\\python312\\lib\\site-packages (from moviepy) (4.4.2)\n",
      "Requirement already satisfied: tqdm<5.0,>=4.11.2 in c:\\users\\arjun\\appdata\\local\\programs\\python\\python312\\lib\\site-packages (from moviepy) (4.66.5)\n",
      "Requirement already satisfied: requests<3.0,>=2.8.1 in c:\\users\\arjun\\appdata\\local\\programs\\python\\python312\\lib\\site-packages (from moviepy) (2.32.3)\n",
      "Requirement already satisfied: proglog<=1.0.0 in c:\\users\\arjun\\appdata\\local\\programs\\python\\python312\\lib\\site-packages (from moviepy) (0.1.10)\n",
      "Requirement already satisfied: numpy>=1.17.3 in c:\\users\\arjun\\appdata\\local\\programs\\python\\python312\\lib\\site-packages (from moviepy) (2.0.2)\n",
      "Requirement already satisfied: imageio<3.0,>=2.5 in c:\\users\\arjun\\appdata\\local\\programs\\python\\python312\\lib\\site-packages (from moviepy) (2.35.1)\n",
      "Requirement already satisfied: imageio-ffmpeg>=0.2.0 in c:\\users\\arjun\\appdata\\local\\programs\\python\\python312\\lib\\site-packages (from moviepy) (0.5.1)\n",
      "Requirement already satisfied: pillow>=8.3.2 in c:\\users\\arjun\\appdata\\local\\programs\\python\\python312\\lib\\site-packages (from imageio<3.0,>=2.5->moviepy) (10.4.0)\n",
      "Requirement already satisfied: setuptools in c:\\users\\arjun\\appdata\\local\\programs\\python\\python312\\lib\\site-packages (from imageio-ffmpeg>=0.2.0->moviepy) (75.2.0)\n",
      "Requirement already satisfied: charset-normalizer<4,>=2 in c:\\users\\arjun\\appdata\\local\\programs\\python\\python312\\lib\\site-packages (from requests<3.0,>=2.8.1->moviepy) (3.4.0)\n",
      "Requirement already satisfied: idna<4,>=2.5 in c:\\users\\arjun\\appdata\\local\\programs\\python\\python312\\lib\\site-packages (from requests<3.0,>=2.8.1->moviepy) (3.10)\n",
      "Requirement already satisfied: urllib3<3,>=1.21.1 in c:\\users\\arjun\\appdata\\local\\programs\\python\\python312\\lib\\site-packages (from requests<3.0,>=2.8.1->moviepy) (2.2.3)\n",
      "Requirement already satisfied: certifi>=2017.4.17 in c:\\users\\arjun\\appdata\\local\\programs\\python\\python312\\lib\\site-packages (from requests<3.0,>=2.8.1->moviepy) (2024.8.30)\n",
      "Requirement already satisfied: colorama in c:\\users\\arjun\\appdata\\local\\programs\\python\\python312\\lib\\site-packages (from tqdm<5.0,>=4.11.2->moviepy) (0.4.6)\n",
      "Requirement already satisfied: openai in c:\\users\\arjun\\appdata\\local\\programs\\python\\python312\\lib\\site-packages (1.51.0)\n",
      "Requirement already satisfied: anyio<5,>=3.5.0 in c:\\users\\arjun\\appdata\\local\\programs\\python\\python312\\lib\\site-packages (from openai) (4.6.2.post1)\n",
      "Requirement already satisfied: distro<2,>=1.7.0 in c:\\users\\arjun\\appdata\\local\\programs\\python\\python312\\lib\\site-packages (from openai) (1.9.0)\n",
      "Requirement already satisfied: httpx<1,>=0.23.0 in c:\\users\\arjun\\appdata\\local\\programs\\python\\python312\\lib\\site-packages (from openai) (0.27.2)\n",
      "Requirement already satisfied: jiter<1,>=0.4.0 in c:\\users\\arjun\\appdata\\local\\programs\\python\\python312\\lib\\site-packages (from openai) (0.5.0)\n",
      "Requirement already satisfied: pydantic<3,>=1.9.0 in c:\\users\\arjun\\appdata\\local\\programs\\python\\python312\\lib\\site-packages (from openai) (2.9.2)\n",
      "Requirement already satisfied: sniffio in c:\\users\\arjun\\appdata\\local\\programs\\python\\python312\\lib\\site-packages (from openai) (1.3.1)\n",
      "Requirement already satisfied: tqdm>4 in c:\\users\\arjun\\appdata\\local\\programs\\python\\python312\\lib\\site-packages (from openai) (4.66.5)\n",
      "Requirement already satisfied: typing-extensions<5,>=4.11 in c:\\users\\arjun\\appdata\\local\\programs\\python\\python312\\lib\\site-packages (from openai) (4.12.2)\n",
      "Requirement already satisfied: idna>=2.8 in c:\\users\\arjun\\appdata\\local\\programs\\python\\python312\\lib\\site-packages (from anyio<5,>=3.5.0->openai) (3.10)\n",
      "Requirement already satisfied: certifi in c:\\users\\arjun\\appdata\\local\\programs\\python\\python312\\lib\\site-packages (from httpx<1,>=0.23.0->openai) (2024.8.30)\n",
      "Requirement already satisfied: httpcore==1.* in c:\\users\\arjun\\appdata\\local\\programs\\python\\python312\\lib\\site-packages (from httpx<1,>=0.23.0->openai) (1.0.6)\n",
      "Requirement already satisfied: h11<0.15,>=0.13 in c:\\users\\arjun\\appdata\\local\\programs\\python\\python312\\lib\\site-packages (from httpcore==1.*->httpx<1,>=0.23.0->openai) (0.14.0)\n",
      "Requirement already satisfied: annotated-types>=0.6.0 in c:\\users\\arjun\\appdata\\local\\programs\\python\\python312\\lib\\site-packages (from pydantic<3,>=1.9.0->openai) (0.7.0)\n",
      "Requirement already satisfied: pydantic-core==2.23.4 in c:\\users\\arjun\\appdata\\local\\programs\\python\\python312\\lib\\site-packages (from pydantic<3,>=1.9.0->openai) (2.23.4)\n",
      "Requirement already satisfied: colorama in c:\\users\\arjun\\appdata\\local\\programs\\python\\python312\\lib\\site-packages (from tqdm>4->openai) (0.4.6)\n",
      "Requirement already satisfied: transformers in c:\\users\\arjun\\appdata\\local\\programs\\python\\python312\\lib\\site-packages (4.45.2)\n",
      "Requirement already satisfied: filelock in c:\\users\\arjun\\appdata\\local\\programs\\python\\python312\\lib\\site-packages (from transformers) (3.16.1)\n",
      "Requirement already satisfied: huggingface-hub<1.0,>=0.23.2 in c:\\users\\arjun\\appdata\\local\\programs\\python\\python312\\lib\\site-packages (from transformers) (0.26.0)\n",
      "Requirement already satisfied: numpy>=1.17 in c:\\users\\arjun\\appdata\\local\\programs\\python\\python312\\lib\\site-packages (from transformers) (2.0.2)\n",
      "Requirement already satisfied: packaging>=20.0 in c:\\users\\arjun\\appdata\\local\\programs\\python\\python312\\lib\\site-packages (from transformers) (24.1)\n",
      "Requirement already satisfied: pyyaml>=5.1 in c:\\users\\arjun\\appdata\\local\\programs\\python\\python312\\lib\\site-packages (from transformers) (6.0.2)\n",
      "Requirement already satisfied: regex!=2019.12.17 in c:\\users\\arjun\\appdata\\local\\programs\\python\\python312\\lib\\site-packages (from transformers) (2024.9.11)\n",
      "Requirement already satisfied: requests in c:\\users\\arjun\\appdata\\local\\programs\\python\\python312\\lib\\site-packages (from transformers) (2.32.3)\n",
      "Requirement already satisfied: safetensors>=0.4.1 in c:\\users\\arjun\\appdata\\local\\programs\\python\\python312\\lib\\site-packages (from transformers) (0.4.5)\n",
      "Requirement already satisfied: tokenizers<0.21,>=0.20 in c:\\users\\arjun\\appdata\\local\\programs\\python\\python312\\lib\\site-packages (from transformers) (0.20.0)\n",
      "Requirement already satisfied: tqdm>=4.27 in c:\\users\\arjun\\appdata\\local\\programs\\python\\python312\\lib\\site-packages (from transformers) (4.66.5)\n",
      "Requirement already satisfied: fsspec>=2023.5.0 in c:\\users\\arjun\\appdata\\local\\programs\\python\\python312\\lib\\site-packages (from huggingface-hub<1.0,>=0.23.2->transformers) (2024.9.0)\n",
      "Requirement already satisfied: typing-extensions>=3.7.4.3 in c:\\users\\arjun\\appdata\\local\\programs\\python\\python312\\lib\\site-packages (from huggingface-hub<1.0,>=0.23.2->transformers) (4.12.2)\n",
      "Requirement already satisfied: colorama in c:\\users\\arjun\\appdata\\local\\programs\\python\\python312\\lib\\site-packages (from tqdm>=4.27->transformers) (0.4.6)\n",
      "Requirement already satisfied: charset-normalizer<4,>=2 in c:\\users\\arjun\\appdata\\local\\programs\\python\\python312\\lib\\site-packages (from requests->transformers) (3.4.0)\n",
      "Requirement already satisfied: idna<4,>=2.5 in c:\\users\\arjun\\appdata\\local\\programs\\python\\python312\\lib\\site-packages (from requests->transformers) (3.10)\n",
      "Requirement already satisfied: urllib3<3,>=1.21.1 in c:\\users\\arjun\\appdata\\local\\programs\\python\\python312\\lib\\site-packages (from requests->transformers) (2.2.3)\n",
      "Requirement already satisfied: certifi>=2017.4.17 in c:\\users\\arjun\\appdata\\local\\programs\\python\\python312\\lib\\site-packages (from requests->transformers) (2024.8.30)\n",
      "Requirement already satisfied: pydub in c:\\users\\arjun\\appdata\\local\\programs\\python\\python312\\lib\\site-packages (0.25.1)\n"
     ]
    }
   ],
   "source": [
    "!pip install pytube \n",
    "!pip install moviepy \n",
    "!pip install openai \n",
    "!pip install transformers \n",
    "!pip install pydub"
   ]
  },
  {
   "cell_type": "code",
   "execution_count": 2,
   "id": "9a092cef-6f36-4f14-943c-2d27c707c475",
   "metadata": {},
   "outputs": [
    {
     "name": "stdout",
     "output_type": "stream",
     "text": [
      "Requirement already satisfied: pytube in c:\\users\\arjun\\appdata\\local\\programs\\python\\python312\\lib\\site-packages (15.0.0)\n"
     ]
    }
   ],
   "source": [
    "!pip install --upgrade pytube\n"
   ]
  },
  {
   "cell_type": "code",
   "execution_count": 3,
   "id": "a519c22a-5a8a-4c1d-b528-4a897dd4cd1f",
   "metadata": {},
   "outputs": [
    {
     "name": "stdout",
     "output_type": "stream",
     "text": [
      "Collecting youtube_dl\n",
      "  Using cached youtube_dl-2021.12.17-py2.py3-none-any.whl.metadata (1.5 kB)\n",
      "Using cached youtube_dl-2021.12.17-py2.py3-none-any.whl (1.9 MB)\n",
      "Installing collected packages: youtube_dl\n",
      "Successfully installed youtube_dl-2021.12.17\n"
     ]
    }
   ],
   "source": [
    "!pip install youtube_dl\n"
   ]
  },
  {
   "cell_type": "code",
   "execution_count": 4,
   "id": "1a48febc-17c4-491e-b022-e7109eede8e4",
   "metadata": {},
   "outputs": [
    {
     "name": "stdout",
     "output_type": "stream",
     "text": [
      "Found existing installation: youtube-dl 2021.12.17\n",
      "Uninstalling youtube-dl-2021.12.17:\n",
      "  Successfully uninstalled youtube-dl-2021.12.17\n"
     ]
    }
   ],
   "source": [
    "!pip uninstall youtube-dl -y"
   ]
  },
  {
   "cell_type": "code",
   "execution_count": 5,
   "id": "d3d5fb2c-09c8-40cf-843a-1768985cf110",
   "metadata": {},
   "outputs": [
    {
     "name": "stdout",
     "output_type": "stream",
     "text": [
      "Requirement already satisfied: yt-dlp in c:\\users\\arjun\\appdata\\local\\programs\\python\\python312\\lib\\site-packages (2024.11.18)\n"
     ]
    }
   ],
   "source": [
    "!pip install yt-dlp\n",
    "\n"
   ]
  },
  {
   "cell_type": "code",
   "execution_count": 6,
   "id": "5f47e309-4a5f-4bdf-9166-c704246f2e2f",
   "metadata": {},
   "outputs": [
    {
     "name": "stdout",
     "output_type": "stream",
     "text": [
      "[youtube] Extracting URL: https://youtu.be/v4t0E3S1N1k?feature=shared\n",
      "[youtube] v4t0E3S1N1k: Downloading webpage\n",
      "[youtube] v4t0E3S1N1k: Downloading ios player API JSON\n",
      "[youtube] v4t0E3S1N1k: Downloading mweb player API JSON\n",
      "[youtube] v4t0E3S1N1k: Downloading m3u8 information\n",
      "[info] v4t0E3S1N1k: Downloading 1 format(s): 251\n",
      "[download] Destination: youtube_audio.webm\n",
      "[download] 100% of  930.57KiB in 00:00:00 at 1.99MiB/s   \n",
      "[ExtractAudio] Destination: youtube_audio.mp3\n",
      "Deleting original file youtube_audio.webm (pass -k to keep)\n"
     ]
    }
   ],
   "source": [
    "import yt_dlp\n",
    "\n",
    "# Download video using yt-dlp\n",
    "def download_video_with_yt_dlp(video_url):\n",
    "    ydl_opts = {\n",
    "        'format': 'bestaudio/best',\n",
    "        'postprocessors': [{\n",
    "            'key': 'FFmpegExtractAudio',\n",
    "            'preferredcodec': 'mp3',\n",
    "            'preferredquality': '192',\n",
    "        }],\n",
    "        'outtmpl': 'youtube_audio.%(ext)s',\n",
    "    }\n",
    "\n",
    "    with yt_dlp.YoutubeDL(ydl_opts) as ydl:\n",
    "        ydl.download([video_url])\n",
    "\n",
    "# Replace with your video URL\n",
    "video_url = \"https://youtu.be/v4t0E3S1N1k?feature=shared\"  # Example URL\n",
    "download_video_with_yt_dlp(video_url)\n"
   ]
  },
  {
   "cell_type": "code",
   "execution_count": 7,
   "id": "2afe5380-eed3-42e9-8264-75bb3e65614b",
   "metadata": {},
   "outputs": [
    {
     "name": "stdout",
     "output_type": "stream",
     "text": [
      "MoviePy - Writing audio in youtube_audio_processed.mp3\n"
     ]
    },
    {
     "name": "stderr",
     "output_type": "stream",
     "text": [
      "                                                                      "
     ]
    },
    {
     "name": "stdout",
     "output_type": "stream",
     "text": [
      "MoviePy - Done.\n",
      "Processed audio file saved at: youtube_audio_processed.mp3\n"
     ]
    },
    {
     "name": "stderr",
     "output_type": "stream",
     "text": [
      "\r"
     ]
    }
   ],
   "source": [
    "from moviepy.editor import AudioFileClip\n",
    "\n",
    "# Function to process the audio file\n",
    "def process_audio(audio_file):\n",
    "    audio_clip = AudioFileClip(audio_file)\n",
    "    output_audio = audio_file.replace('.mp3', '_processed.mp3')  # Output filename\n",
    "    audio_clip.write_audiofile(output_audio)\n",
    "    return output_audio\n",
    "\n",
    "# Assuming the audio file is named 'youtube_audio.mp3'\n",
    "audio_path = \"youtube_audio.mp3\"  # Replace with actual downloaded file name if different\n",
    "\n",
    "# Process audio\n",
    "processed_audio_path = process_audio(audio_path)\n",
    "print(f\"Processed audio file saved at: {processed_audio_path}\")\n"
   ]
  },
  {
   "cell_type": "code",
   "execution_count": 8,
   "id": "e3a16c78-d5aa-4e31-ad7f-4f7d60483c91",
   "metadata": {},
   "outputs": [
    {
     "name": "stdout",
     "output_type": "stream",
     "text": [
      "Requirement already satisfied: whisper in c:\\users\\arjun\\appdata\\local\\programs\\python\\python312\\lib\\site-packages (1.1.10)\n",
      "Requirement already satisfied: six in c:\\users\\arjun\\appdata\\local\\programs\\python\\python312\\lib\\site-packages (from whisper) (1.16.0)\n"
     ]
    }
   ],
   "source": [
    "!pip install whisper\n"
   ]
  },
  {
   "cell_type": "code",
   "execution_count": 9,
   "id": "d046eb91-cc08-46f3-996b-880bc9dfbf8b",
   "metadata": {},
   "outputs": [
    {
     "name": "stdout",
     "output_type": "stream",
     "text": [
      "Requirement already satisfied: openai-whisper in c:\\users\\arjun\\appdata\\local\\programs\\python\\python312\\lib\\site-packages (20240930)Note: you may need to restart the kernel to use updated packages.\n",
      "\n",
      "Requirement already satisfied: numba in c:\\users\\arjun\\appdata\\local\\programs\\python\\python312\\lib\\site-packages (from openai-whisper) (0.60.0)\n",
      "Requirement already satisfied: numpy in c:\\users\\arjun\\appdata\\local\\programs\\python\\python312\\lib\\site-packages (from openai-whisper) (2.0.2)\n",
      "Requirement already satisfied: torch in c:\\users\\arjun\\appdata\\local\\programs\\python\\python312\\lib\\site-packages (from openai-whisper) (2.5.0)\n",
      "Requirement already satisfied: tqdm in c:\\users\\arjun\\appdata\\local\\programs\\python\\python312\\lib\\site-packages (from openai-whisper) (4.66.5)\n",
      "Requirement already satisfied: more-itertools in c:\\users\\arjun\\appdata\\local\\programs\\python\\python312\\lib\\site-packages (from openai-whisper) (10.5.0)\n",
      "Requirement already satisfied: tiktoken in c:\\users\\arjun\\appdata\\local\\programs\\python\\python312\\lib\\site-packages (from openai-whisper) (0.7.0)\n",
      "Requirement already satisfied: llvmlite<0.44,>=0.43.0dev0 in c:\\users\\arjun\\appdata\\local\\programs\\python\\python312\\lib\\site-packages (from numba->openai-whisper) (0.43.0)\n",
      "Requirement already satisfied: regex>=2022.1.18 in c:\\users\\arjun\\appdata\\local\\programs\\python\\python312\\lib\\site-packages (from tiktoken->openai-whisper) (2024.9.11)\n",
      "Requirement already satisfied: requests>=2.26.0 in c:\\users\\arjun\\appdata\\local\\programs\\python\\python312\\lib\\site-packages (from tiktoken->openai-whisper) (2.32.3)\n",
      "Requirement already satisfied: filelock in c:\\users\\arjun\\appdata\\local\\programs\\python\\python312\\lib\\site-packages (from torch->openai-whisper) (3.16.1)\n",
      "Requirement already satisfied: typing-extensions>=4.8.0 in c:\\users\\arjun\\appdata\\local\\programs\\python\\python312\\lib\\site-packages (from torch->openai-whisper) (4.12.2)\n",
      "Requirement already satisfied: networkx in c:\\users\\arjun\\appdata\\local\\programs\\python\\python312\\lib\\site-packages (from torch->openai-whisper) (3.4.1)\n",
      "Requirement already satisfied: jinja2 in c:\\users\\arjun\\appdata\\local\\programs\\python\\python312\\lib\\site-packages (from torch->openai-whisper) (3.1.4)\n",
      "Requirement already satisfied: fsspec in c:\\users\\arjun\\appdata\\local\\programs\\python\\python312\\lib\\site-packages (from torch->openai-whisper) (2024.9.0)\n",
      "Requirement already satisfied: setuptools in c:\\users\\arjun\\appdata\\local\\programs\\python\\python312\\lib\\site-packages (from torch->openai-whisper) (75.2.0)\n",
      "Requirement already satisfied: sympy==1.13.1 in c:\\users\\arjun\\appdata\\local\\programs\\python\\python312\\lib\\site-packages (from torch->openai-whisper) (1.13.1)\n",
      "Requirement already satisfied: mpmath<1.4,>=1.1.0 in c:\\users\\arjun\\appdata\\local\\programs\\python\\python312\\lib\\site-packages (from sympy==1.13.1->torch->openai-whisper) (1.3.0)\n",
      "Requirement already satisfied: colorama in c:\\users\\arjun\\appdata\\local\\programs\\python\\python312\\lib\\site-packages (from tqdm->openai-whisper) (0.4.6)\n",
      "Requirement already satisfied: charset-normalizer<4,>=2 in c:\\users\\arjun\\appdata\\local\\programs\\python\\python312\\lib\\site-packages (from requests>=2.26.0->tiktoken->openai-whisper) (3.4.0)\n",
      "Requirement already satisfied: idna<4,>=2.5 in c:\\users\\arjun\\appdata\\local\\programs\\python\\python312\\lib\\site-packages (from requests>=2.26.0->tiktoken->openai-whisper) (3.10)\n",
      "Requirement already satisfied: urllib3<3,>=1.21.1 in c:\\users\\arjun\\appdata\\local\\programs\\python\\python312\\lib\\site-packages (from requests>=2.26.0->tiktoken->openai-whisper) (2.2.3)\n",
      "Requirement already satisfied: certifi>=2017.4.17 in c:\\users\\arjun\\appdata\\local\\programs\\python\\python312\\lib\\site-packages (from requests>=2.26.0->tiktoken->openai-whisper) (2024.8.30)\n",
      "Requirement already satisfied: MarkupSafe>=2.0 in c:\\users\\arjun\\appdata\\local\\programs\\python\\python312\\lib\\site-packages (from jinja2->torch->openai-whisper) (3.0.1)\n"
     ]
    }
   ],
   "source": [
    "pip install --upgrade openai-whisper\n"
   ]
  },
  {
   "cell_type": "code",
   "execution_count": 10,
   "id": "0ad511a4-a66d-40a0-a710-723398b82b1e",
   "metadata": {},
   "outputs": [
    {
     "name": "stdout",
     "output_type": "stream",
     "text": [
      "Requirement already satisfied: ffmpeg-python in c:\\users\\arjun\\appdata\\local\\programs\\python\\python312\\lib\\site-packages (0.2.0)\n",
      "Requirement already satisfied: future in c:\\users\\arjun\\appdata\\local\\programs\\python\\python312\\lib\\site-packages (from ffmpeg-python) (1.0.0)\n",
      "Note: you may need to restart the kernel to use updated packages.\n"
     ]
    }
   ],
   "source": [
    "pip install ffmpeg-python\n"
   ]
  },
  {
   "cell_type": "code",
   "execution_count": 11,
   "id": "ec2518f6-f6d9-4c9e-b085-c4bbf6e38642",
   "metadata": {},
   "outputs": [
    {
     "name": "stdout",
     "output_type": "stream",
     "text": [
      "Transcribed Text:   Welcome to English in a minute. If you've ever gardened, you know weeds grow super fast. They can take over a garden overnight. But what does grow like a weed mean in other situations? Hey, Dan, do you want to see pictures from my trip home? Oh, geez, I would love to. But… This is me with my little cousin Arlo. Little? He's taller than you. I know! He is growing like a weed. He's only 10. Does he have a beard? To grow like a weed just means to grow very quickly. We mostly use this expression when talking about how fast children grow. And that's English in a minute.\n"
     ]
    }
   ],
   "source": [
    "import whisper\n",
    "\n",
    "# Step 4: Transcribe audio to text using Whisper\n",
    "def transcribe_audio(audio_file):\n",
    "    model = whisper.load_model(\"base\")\n",
    "    result = model.transcribe(audio_file)\n",
    "    return result['text']\n",
    "\n",
    "# Assuming audio_file_path is the result of the audio extraction step\n",
    "audio_file_path = \"youtube_audio_processed.mp3\"  # Replace with the correct path to the extracted audio file\n",
    "\n",
    "# Step: Transcribe the extracted audio\n",
    "transcribed_text = transcribe_audio(audio_file_path)\n",
    "print(\"Transcribed Text: \", transcribed_text)\n"
   ]
  },
  {
   "cell_type": "code",
   "execution_count": 12,
   "id": "eedf4ca8-4e21-4fe0-a93c-fe2bda763f4d",
   "metadata": {},
   "outputs": [
    {
     "name": "stdout",
     "output_type": "stream",
     "text": [
      "Requirement already satisfied: transformers in c:\\users\\arjun\\appdata\\local\\programs\\python\\python312\\lib\\site-packages (4.45.2)\n",
      "Collecting transformers\n",
      "  Downloading transformers-4.46.3-py3-none-any.whl.metadata (44 kB)\n",
      "Requirement already satisfied: filelock in c:\\users\\arjun\\appdata\\local\\programs\\python\\python312\\lib\\site-packages (from transformers) (3.16.1)\n",
      "Requirement already satisfied: huggingface-hub<1.0,>=0.23.2 in c:\\users\\arjun\\appdata\\local\\programs\\python\\python312\\lib\\site-packages (from transformers) (0.26.0)\n",
      "Requirement already satisfied: numpy>=1.17 in c:\\users\\arjun\\appdata\\local\\programs\\python\\python312\\lib\\site-packages (from transformers) (2.0.2)\n",
      "Requirement already satisfied: packaging>=20.0 in c:\\users\\arjun\\appdata\\local\\programs\\python\\python312\\lib\\site-packages (from transformers) (24.1)\n",
      "Requirement already satisfied: pyyaml>=5.1 in c:\\users\\arjun\\appdata\\local\\programs\\python\\python312\\lib\\site-packages (from transformers) (6.0.2)\n",
      "Requirement already satisfied: regex!=2019.12.17 in c:\\users\\arjun\\appdata\\local\\programs\\python\\python312\\lib\\site-packages (from transformers) (2024.9.11)\n",
      "Requirement already satisfied: requests in c:\\users\\arjun\\appdata\\local\\programs\\python\\python312\\lib\\site-packages (from transformers) (2.32.3)\n",
      "Requirement already satisfied: tokenizers<0.21,>=0.20 in c:\\users\\arjun\\appdata\\local\\programs\\python\\python312\\lib\\site-packages (from transformers) (0.20.0)\n",
      "Requirement already satisfied: safetensors>=0.4.1 in c:\\users\\arjun\\appdata\\local\\programs\\python\\python312\\lib\\site-packages (from transformers) (0.4.5)\n",
      "Requirement already satisfied: tqdm>=4.27 in c:\\users\\arjun\\appdata\\local\\programs\\python\\python312\\lib\\site-packages (from transformers) (4.66.5)\n",
      "Requirement already satisfied: fsspec>=2023.5.0 in c:\\users\\arjun\\appdata\\local\\programs\\python\\python312\\lib\\site-packages (from huggingface-hub<1.0,>=0.23.2->transformers) (2024.9.0)\n",
      "Requirement already satisfied: typing-extensions>=3.7.4.3 in c:\\users\\arjun\\appdata\\local\\programs\\python\\python312\\lib\\site-packages (from huggingface-hub<1.0,>=0.23.2->transformers) (4.12.2)\n",
      "Requirement already satisfied: colorama in c:\\users\\arjun\\appdata\\local\\programs\\python\\python312\\lib\\site-packages (from tqdm>=4.27->transformers) (0.4.6)\n",
      "Requirement already satisfied: charset-normalizer<4,>=2 in c:\\users\\arjun\\appdata\\local\\programs\\python\\python312\\lib\\site-packages (from requests->transformers) (3.4.0)\n",
      "Requirement already satisfied: idna<4,>=2.5 in c:\\users\\arjun\\appdata\\local\\programs\\python\\python312\\lib\\site-packages (from requests->transformers) (3.10)\n",
      "Requirement already satisfied: urllib3<3,>=1.21.1 in c:\\users\\arjun\\appdata\\local\\programs\\python\\python312\\lib\\site-packages (from requests->transformers) (2.2.3)\n",
      "Requirement already satisfied: certifi>=2017.4.17 in c:\\users\\arjun\\appdata\\local\\programs\\python\\python312\\lib\\site-packages (from requests->transformers) (2024.8.30)\n",
      "Downloading transformers-4.46.3-py3-none-any.whl (10.0 MB)\n",
      "   ---------------------------------------- 0.0/10.0 MB ? eta -:--:--\n",
      "   ---- ----------------------------------- 1.0/10.0 MB 7.2 MB/s eta 0:00:02\n",
      "   --------- ------------------------------ 2.4/10.0 MB 6.4 MB/s eta 0:00:02\n",
      "   -------------- ------------------------- 3.7/10.0 MB 6.2 MB/s eta 0:00:02\n",
      "   ------------------------ --------------- 6.0/10.0 MB 7.2 MB/s eta 0:00:01\n",
      "   ---------------------------------- ----- 8.7/10.0 MB 8.3 MB/s eta 0:00:01\n",
      "   ---------------------------------------- 10.0/10.0 MB 8.7 MB/s eta 0:00:00\n",
      "Installing collected packages: transformers\n",
      "  Attempting uninstall: transformers\n",
      "    Found existing installation: transformers 4.45.2\n",
      "    Uninstalling transformers-4.45.2:\n",
      "      Successfully uninstalled transformers-4.45.2\n",
      "Successfully installed transformers-4.46.3\n",
      "Note: you may need to restart the kernel to use updated packages.\n"
     ]
    }
   ],
   "source": [
    "pip install --upgrade transformers\n"
   ]
  },
  {
   "cell_type": "code",
   "execution_count": 13,
   "id": "84362b72-5286-4245-b574-43734be375c4",
   "metadata": {},
   "outputs": [
    {
     "name": "stdout",
     "output_type": "stream",
     "text": [
      "Summary:  weeds grow super fast and can take over a garden overnight . but what does grow like a weed mean in other situations? Hey, Dan, do you want to see pictures from my trip home? Oh, geez, I would love to. But... this is me with my little cousin Arlo. Little? He's taller than you .\n"
     ]
    }
   ],
   "source": [
    "from transformers import pipeline\n",
    "\n",
    "# Step 5: Summarize transcribed text\n",
    "def summarize_text(text):\n",
    "    summarizer = pipeline(\"summarization\", model=\"t5-small\", tokenizer=\"t5-small\")\n",
    "    summary = summarizer(text, max_length=150, min_length=50, do_sample=False)\n",
    "    return summary[0]['summary_text']\n",
    "\n",
    "summary = summarize_text(transcribed_text)\n",
    "print(\"Summary: \", summary)\n"
   ]
  },
  {
   "cell_type": "code",
   "execution_count": 14,
   "id": "717bda26-0b00-43ba-95d7-8beff22ae7b7",
   "metadata": {},
   "outputs": [
    {
     "name": "stdout",
     "output_type": "stream",
     "text": [
      "Requirement already satisfied: jiwer in c:\\users\\arjun\\appdata\\local\\programs\\python\\python312\\lib\\site-packages (3.0.4)\n",
      "Requirement already satisfied: rouge-score in c:\\users\\arjun\\appdata\\local\\programs\\python\\python312\\lib\\site-packages (0.1.2)\n",
      "Requirement already satisfied: click<9.0.0,>=8.1.3 in c:\\users\\arjun\\appdata\\local\\programs\\python\\python312\\lib\\site-packages (from jiwer) (8.1.7)\n",
      "Requirement already satisfied: rapidfuzz<4,>=3 in c:\\users\\arjun\\appdata\\local\\programs\\python\\python312\\lib\\site-packages (from jiwer) (3.10.0)\n",
      "Requirement already satisfied: absl-py in c:\\users\\arjun\\appdata\\local\\programs\\python\\python312\\lib\\site-packages (from rouge-score) (2.1.0)\n",
      "Requirement already satisfied: nltk in c:\\users\\arjun\\appdata\\local\\programs\\python\\python312\\lib\\site-packages (from rouge-score) (3.9.1)\n",
      "Requirement already satisfied: numpy in c:\\users\\arjun\\appdata\\local\\programs\\python\\python312\\lib\\site-packages (from rouge-score) (2.0.2)\n",
      "Requirement already satisfied: six>=1.14.0 in c:\\users\\arjun\\appdata\\local\\programs\\python\\python312\\lib\\site-packages (from rouge-score) (1.16.0)\n",
      "Requirement already satisfied: colorama in c:\\users\\arjun\\appdata\\local\\programs\\python\\python312\\lib\\site-packages (from click<9.0.0,>=8.1.3->jiwer) (0.4.6)\n",
      "Requirement already satisfied: joblib in c:\\users\\arjun\\appdata\\local\\programs\\python\\python312\\lib\\site-packages (from nltk->rouge-score) (1.4.2)\n",
      "Requirement already satisfied: regex>=2021.8.3 in c:\\users\\arjun\\appdata\\local\\programs\\python\\python312\\lib\\site-packages (from nltk->rouge-score) (2024.9.11)\n",
      "Requirement already satisfied: tqdm in c:\\users\\arjun\\appdata\\local\\programs\\python\\python312\\lib\\site-packages (from nltk->rouge-score) (4.66.5)\n"
     ]
    }
   ],
   "source": [
    "!pip install jiwer rouge-score"
   ]
  },
  {
   "cell_type": "code",
   "execution_count": 15,
   "id": "1f789d07",
   "metadata": {},
   "outputs": [
    {
     "name": "stdout",
     "output_type": "stream",
     "text": [
      "Generated Summary:  this is the transcribed text from Whisper.\n",
      "ROUGE Scores:  {'rouge1': Score(precision=0.42857142857142855, recall=0.42857142857142855, fmeasure=0.42857142857142855), 'rouge2': Score(precision=0.3333333333333333, recall=0.3333333333333333, fmeasure=0.3333333333333333), 'rougeL': Score(precision=0.42857142857142855, recall=0.42857142857142855, fmeasure=0.42857142857142855)}\n"
     ]
    }
   ],
   "source": [
    "from transformers import pipeline\n",
    "from rouge_score import rouge_scorer\n",
    "\n",
    "# Summarize the transcribed text\n",
    "def summarize_text(text):\n",
    "    summarizer = pipeline(\"summarization\", model=\"t5-small\", tokenizer=\"t5-small\")\n",
    "    summary = summarizer(text, max_length=14, min_length=10, do_sample=False)\n",
    "    return summary[0]['summary_text']\n",
    "\n",
    "# Calculate ROUGE score\n",
    "def calculate_rouge(reference_summary, generated_summary):\n",
    "    scorer = rouge_scorer.RougeScorer(['rouge1', 'rouge2', 'rougeL'], use_stemmer=True)\n",
    "    scores = scorer.score(reference_summary, generated_summary)\n",
    "    return scores\n",
    "\n",
    "# Example\n",
    "if __name__ == \"__main__\":\n",
    "    # Replace this with the actual transcribed text\n",
    "    transcribed_text = \"This is the transcribed text from Whisper.\"  # Replace with actual transcribed text\n",
    "    \n",
    "    # Step: Summarize the transcribed text\n",
    "    summary = summarize_text(transcribed_text)\n",
    "    print(\"Generated Summary: \", summary)\n",
    "\n",
    "    # Assume you have the reference (ground truth) summary\n",
    "    reference_summary = \"This is the reference summary for evaluation.\"  # Replace with actual reference summary\n",
    "\n",
    "    # Step: Calculate and print ROUGE scores\n",
    "    rouge_scores = calculate_rouge(reference_summary, summary)\n",
    "    print(\"ROUGE Scores: \", rouge_scores)\n"
   ]
  },
  {
   "cell_type": "code",
   "execution_count": 16,
   "id": "a7f01378",
   "metadata": {},
   "outputs": [
    {
     "name": "stdout",
     "output_type": "stream",
     "text": [
      "Requirement already satisfied: sentence-transformers in c:\\users\\arjun\\appdata\\local\\programs\\python\\python312\\lib\\site-packages (3.1.1)\n",
      "Requirement already satisfied: transformers<5.0.0,>=4.38.0 in c:\\users\\arjun\\appdata\\local\\programs\\python\\python312\\lib\\site-packages (from sentence-transformers) (4.46.3)\n",
      "Requirement already satisfied: tqdm in c:\\users\\arjun\\appdata\\local\\programs\\python\\python312\\lib\\site-packages (from sentence-transformers) (4.66.5)\n",
      "Requirement already satisfied: torch>=1.11.0 in c:\\users\\arjun\\appdata\\local\\programs\\python\\python312\\lib\\site-packages (from sentence-transformers) (2.5.0)\n",
      "Requirement already satisfied: scikit-learn in c:\\users\\arjun\\appdata\\local\\programs\\python\\python312\\lib\\site-packages (from sentence-transformers) (1.5.2)\n",
      "Requirement already satisfied: scipy in c:\\users\\arjun\\appdata\\local\\programs\\python\\python312\\lib\\site-packages (from sentence-transformers) (1.14.1)\n",
      "Requirement already satisfied: huggingface-hub>=0.19.3 in c:\\users\\arjun\\appdata\\local\\programs\\python\\python312\\lib\\site-packages (from sentence-transformers) (0.26.0)\n",
      "Requirement already satisfied: Pillow in c:\\users\\arjun\\appdata\\local\\programs\\python\\python312\\lib\\site-packages (from sentence-transformers) (10.4.0)\n",
      "Requirement already satisfied: filelock in c:\\users\\arjun\\appdata\\local\\programs\\python\\python312\\lib\\site-packages (from huggingface-hub>=0.19.3->sentence-transformers) (3.16.1)\n",
      "Requirement already satisfied: fsspec>=2023.5.0 in c:\\users\\arjun\\appdata\\local\\programs\\python\\python312\\lib\\site-packages (from huggingface-hub>=0.19.3->sentence-transformers) (2024.9.0)\n",
      "Requirement already satisfied: packaging>=20.9 in c:\\users\\arjun\\appdata\\local\\programs\\python\\python312\\lib\\site-packages (from huggingface-hub>=0.19.3->sentence-transformers) (24.1)\n",
      "Requirement already satisfied: pyyaml>=5.1 in c:\\users\\arjun\\appdata\\local\\programs\\python\\python312\\lib\\site-packages (from huggingface-hub>=0.19.3->sentence-transformers) (6.0.2)\n",
      "Requirement already satisfied: requests in c:\\users\\arjun\\appdata\\local\\programs\\python\\python312\\lib\\site-packages (from huggingface-hub>=0.19.3->sentence-transformers) (2.32.3)\n",
      "Requirement already satisfied: typing-extensions>=3.7.4.3 in c:\\users\\arjun\\appdata\\local\\programs\\python\\python312\\lib\\site-packages (from huggingface-hub>=0.19.3->sentence-transformers) (4.12.2)\n",
      "Requirement already satisfied: networkx in c:\\users\\arjun\\appdata\\local\\programs\\python\\python312\\lib\\site-packages (from torch>=1.11.0->sentence-transformers) (3.4.1)\n",
      "Requirement already satisfied: jinja2 in c:\\users\\arjun\\appdata\\local\\programs\\python\\python312\\lib\\site-packages (from torch>=1.11.0->sentence-transformers) (3.1.4)\n",
      "Requirement already satisfied: setuptools in c:\\users\\arjun\\appdata\\local\\programs\\python\\python312\\lib\\site-packages (from torch>=1.11.0->sentence-transformers) (75.2.0)\n",
      "Requirement already satisfied: sympy==1.13.1 in c:\\users\\arjun\\appdata\\local\\programs\\python\\python312\\lib\\site-packages (from torch>=1.11.0->sentence-transformers) (1.13.1)\n",
      "Requirement already satisfied: mpmath<1.4,>=1.1.0 in c:\\users\\arjun\\appdata\\local\\programs\\python\\python312\\lib\\site-packages (from sympy==1.13.1->torch>=1.11.0->sentence-transformers) (1.3.0)\n",
      "Requirement already satisfied: colorama in c:\\users\\arjun\\appdata\\local\\programs\\python\\python312\\lib\\site-packages (from tqdm->sentence-transformers) (0.4.6)\n",
      "Requirement already satisfied: numpy>=1.17 in c:\\users\\arjun\\appdata\\local\\programs\\python\\python312\\lib\\site-packages (from transformers<5.0.0,>=4.38.0->sentence-transformers) (2.0.2)\n",
      "Requirement already satisfied: regex!=2019.12.17 in c:\\users\\arjun\\appdata\\local\\programs\\python\\python312\\lib\\site-packages (from transformers<5.0.0,>=4.38.0->sentence-transformers) (2024.9.11)\n",
      "Requirement already satisfied: tokenizers<0.21,>=0.20 in c:\\users\\arjun\\appdata\\local\\programs\\python\\python312\\lib\\site-packages (from transformers<5.0.0,>=4.38.0->sentence-transformers) (0.20.0)\n",
      "Requirement already satisfied: safetensors>=0.4.1 in c:\\users\\arjun\\appdata\\local\\programs\\python\\python312\\lib\\site-packages (from transformers<5.0.0,>=4.38.0->sentence-transformers) (0.4.5)\n",
      "Requirement already satisfied: joblib>=1.2.0 in c:\\users\\arjun\\appdata\\local\\programs\\python\\python312\\lib\\site-packages (from scikit-learn->sentence-transformers) (1.4.2)\n",
      "Requirement already satisfied: threadpoolctl>=3.1.0 in c:\\users\\arjun\\appdata\\local\\programs\\python\\python312\\lib\\site-packages (from scikit-learn->sentence-transformers) (3.5.0)\n",
      "Requirement already satisfied: MarkupSafe>=2.0 in c:\\users\\arjun\\appdata\\local\\programs\\python\\python312\\lib\\site-packages (from jinja2->torch>=1.11.0->sentence-transformers) (3.0.1)\n",
      "Requirement already satisfied: charset-normalizer<4,>=2 in c:\\users\\arjun\\appdata\\local\\programs\\python\\python312\\lib\\site-packages (from requests->huggingface-hub>=0.19.3->sentence-transformers) (3.4.0)\n",
      "Requirement already satisfied: idna<4,>=2.5 in c:\\users\\arjun\\appdata\\local\\programs\\python\\python312\\lib\\site-packages (from requests->huggingface-hub>=0.19.3->sentence-transformers) (3.10)\n",
      "Requirement already satisfied: urllib3<3,>=1.21.1 in c:\\users\\arjun\\appdata\\local\\programs\\python\\python312\\lib\\site-packages (from requests->huggingface-hub>=0.19.3->sentence-transformers) (2.2.3)\n",
      "Requirement already satisfied: certifi>=2017.4.17 in c:\\users\\arjun\\appdata\\local\\programs\\python\\python312\\lib\\site-packages (from requests->huggingface-hub>=0.19.3->sentence-transformers) (2024.8.30)\n",
      "Note: you may need to restart the kernel to use updated packages.\n"
     ]
    }
   ],
   "source": [
    "pip install sentence-transformers"
   ]
  },
  {
   "cell_type": "code",
   "execution_count": 17,
   "id": "9fdb017d",
   "metadata": {},
   "outputs": [
    {
     "data": {
      "application/vnd.jupyter.widget-view+json": {
       "model_id": "e4a67f0c04f9481d8d455b18bbe9be18",
       "version_major": 2,
       "version_minor": 0
      },
      "text/plain": [
       "modules.json:   0%|          | 0.00/349 [00:00<?, ?B/s]"
      ]
     },
     "metadata": {},
     "output_type": "display_data"
    },
    {
     "name": "stderr",
     "output_type": "stream",
     "text": [
      "WARNING:py.warnings:c:\\Users\\arjun\\AppData\\Local\\Programs\\Python\\Python312\\Lib\\site-packages\\huggingface_hub\\file_download.py:139: UserWarning: `huggingface_hub` cache-system uses symlinks by default to efficiently store duplicated files but your machine does not support them in C:\\Users\\Arjun\\.cache\\huggingface\\hub\\models--sentence-transformers--all-MiniLM-L6-v2. Caching files will still work but in a degraded version that might require more space on your disk. This warning can be disabled by setting the `HF_HUB_DISABLE_SYMLINKS_WARNING` environment variable. For more details, see https://huggingface.co/docs/huggingface_hub/how-to-cache#limitations.\n",
      "To support symlinks on Windows, you either need to activate Developer Mode or to run Python as an administrator. In order to activate developer mode, see this article: https://docs.microsoft.com/en-us/windows/apps/get-started/enable-your-device-for-development\n",
      "  warnings.warn(message)\n",
      "\n"
     ]
    },
    {
     "data": {
      "application/vnd.jupyter.widget-view+json": {
       "model_id": "2cf01bd0f47e4ad89e7584afb40d5825",
       "version_major": 2,
       "version_minor": 0
      },
      "text/plain": [
       "config_sentence_transformers.json:   0%|          | 0.00/116 [00:00<?, ?B/s]"
      ]
     },
     "metadata": {},
     "output_type": "display_data"
    },
    {
     "data": {
      "application/vnd.jupyter.widget-view+json": {
       "model_id": "78abea6ead4d47a2aba5cd2c89a67cb8",
       "version_major": 2,
       "version_minor": 0
      },
      "text/plain": [
       "README.md:   0%|          | 0.00/10.7k [00:00<?, ?B/s]"
      ]
     },
     "metadata": {},
     "output_type": "display_data"
    },
    {
     "data": {
      "application/vnd.jupyter.widget-view+json": {
       "model_id": "41c5990a0ad146ddb884444bcb677cd7",
       "version_major": 2,
       "version_minor": 0
      },
      "text/plain": [
       "sentence_bert_config.json:   0%|          | 0.00/53.0 [00:00<?, ?B/s]"
      ]
     },
     "metadata": {},
     "output_type": "display_data"
    },
    {
     "data": {
      "application/vnd.jupyter.widget-view+json": {
       "model_id": "fbef197c546344ae9596798f79355c6b",
       "version_major": 2,
       "version_minor": 0
      },
      "text/plain": [
       "config.json:   0%|          | 0.00/612 [00:00<?, ?B/s]"
      ]
     },
     "metadata": {},
     "output_type": "display_data"
    },
    {
     "data": {
      "application/vnd.jupyter.widget-view+json": {
       "model_id": "acb29ad703aa4d80b328aded479769a7",
       "version_major": 2,
       "version_minor": 0
      },
      "text/plain": [
       "model.safetensors:   0%|          | 0.00/90.9M [00:00<?, ?B/s]"
      ]
     },
     "metadata": {},
     "output_type": "display_data"
    },
    {
     "data": {
      "application/vnd.jupyter.widget-view+json": {
       "model_id": "0e9cad176ee544d0b157362db0479504",
       "version_major": 2,
       "version_minor": 0
      },
      "text/plain": [
       "tokenizer_config.json:   0%|          | 0.00/350 [00:00<?, ?B/s]"
      ]
     },
     "metadata": {},
     "output_type": "display_data"
    },
    {
     "data": {
      "application/vnd.jupyter.widget-view+json": {
       "model_id": "df23784192854804b093f61955b9caba",
       "version_major": 2,
       "version_minor": 0
      },
      "text/plain": [
       "vocab.txt:   0%|          | 0.00/232k [00:00<?, ?B/s]"
      ]
     },
     "metadata": {},
     "output_type": "display_data"
    },
    {
     "data": {
      "application/vnd.jupyter.widget-view+json": {
       "model_id": "436c46fa4f964b66b454c96c82b27d34",
       "version_major": 2,
       "version_minor": 0
      },
      "text/plain": [
       "tokenizer.json:   0%|          | 0.00/466k [00:00<?, ?B/s]"
      ]
     },
     "metadata": {},
     "output_type": "display_data"
    },
    {
     "data": {
      "application/vnd.jupyter.widget-view+json": {
       "model_id": "82f9994b8d964bdf992427d63fd7e6e9",
       "version_major": 2,
       "version_minor": 0
      },
      "text/plain": [
       "special_tokens_map.json:   0%|          | 0.00/112 [00:00<?, ?B/s]"
      ]
     },
     "metadata": {},
     "output_type": "display_data"
    },
    {
     "data": {
      "application/vnd.jupyter.widget-view+json": {
       "model_id": "9b6cc453012e47d28859cb07a49bf3b9",
       "version_major": 2,
       "version_minor": 0
      },
      "text/plain": [
       "1_Pooling/config.json:   0%|          | 0.00/190 [00:00<?, ?B/s]"
      ]
     },
     "metadata": {},
     "output_type": "display_data"
    },
    {
     "name": "stdout",
     "output_type": "stream",
     "text": [
      "Cosine Similarity: 0.8796268701553345\n"
     ]
    }
   ],
   "source": [
    "from sentence_transformers import SentenceTransformer, util\n",
    "import numpy as np\n",
    "\n",
    "# Load the pre-trained Sentence-BERT model\n",
    "model = SentenceTransformer('all-MiniLM-L6-v2')\n",
    "\n",
    "# Original text and generated summary\n",
    "original_text = \"Welcome to English in a minute. If you've ever gardened, you know weeds grow super fast. They can take over a garden overnight. But what does grow like a weed mean in other situations? Hey, Dan, do you want to see pictures from my trip home? Oh, geez, I would love to. But… This is me with my little cousin Arlo. Little? He's taller than you. I know! He is growing like a weed. He's only 10. Does he have a beard? To grow like a weed just means to grow very quickly. We mostly use this expression when talking about how fast children grow. And that's English in a minute.\"  # Replace with actual transcribed text\n",
    "generated_summary = \"weeds grow super fast and can take over a garden overnight . but what does grow like a weed mean in other situations? Hey, Dan, do you want to see pictures from my trip home? Oh, geez, I would love to. But... this is me with my little cousin Arlo. Little? He's taller than you .\"  # Replace with actual generated summary\n",
    "\n",
    "# Encode the sentences\n",
    "original_embedding = model.encode(original_text, convert_to_tensor=True)\n",
    "summary_embedding = model.encode(generated_summary, convert_to_tensor=True)\n",
    "\n",
    "# Calculate cosine similarity\n",
    "cosine_similarity = util.pytorch_cos_sim(original_embedding, summary_embedding)\n",
    "\n",
    "print(\"Cosine Similarity:\", cosine_similarity.item())"
   ]
  }
 ],
 "metadata": {
  "kernelspec": {
   "display_name": "Python 3",
   "language": "python",
   "name": "python3"
  },
  "language_info": {
   "codemirror_mode": {
    "name": "ipython",
    "version": 3
   },
   "file_extension": ".py",
   "mimetype": "text/x-python",
   "name": "python",
   "nbconvert_exporter": "python",
   "pygments_lexer": "ipython3",
   "version": "3.12.6"
  }
 },
 "nbformat": 4,
 "nbformat_minor": 5
}
